{
 "cells": [
  {
   "cell_type": "code",
   "execution_count": 143,
   "id": "7b5c6a02-f0e2-406b-bb12-a2529211b50c",
   "metadata": {},
   "outputs": [],
   "source": [
    "# import libraries and read csv files directly from csv files \n",
    "# concatenate them and store in a dataframe\n",
    "# add name column to the dataframe from name of the files\n",
    "\n",
    "import pandas\n",
    "import numpy as np\n",
    "import os\n",
    "import scipy.stats as stats\n",
    "import datetime as dt\n",
    "#combine csv files\n",
    "#assign filenames as Name column's value...\n",
    "folder_path = \"all-365-days-csv\"\n",
    "df_list = []\n",
    "for file in os.listdir('all-365-days-csv'):\n",
    "    if file.endswith('.csv'):\n",
    "        file_path = os.path.join(folder_path, file)\n",
    "        df = pd.read_csv(file_path, delimiter=\";\")\n",
    "        df['Name'] = os.path.splitext(file)[0]\n",
    "        df_list.append(df)\n",
    "        \n",
    "\n",
    "combined_df = pd.concat(df_list)\n",
    "\n",
    "#cleaning Name columns\n",
    "\n",
    "combined_df['Name'] = combined_df['Name'].apply(lambda x: x.strip())\n",
    "combined_df['Name'] = combined_df['Name'].str[:-48]\n",
    "df = combined_df.copy()"
   ]
  },
  {
   "cell_type": "code",
   "execution_count": 144,
   "id": "1999b5ee-a47d-4b6e-a169-cf1421c70cfe",
   "metadata": {},
   "outputs": [],
   "source": [
    "# select 40 random csv files directly from the folder of files:\n",
    "all_csv_files = [f for f in os.listdir(\"all-365-days-csv\") if f.endswith('.csv')]\n",
    "selected_files = random.sample(all_csv_files, 40)\n",
    "samples = []\n",
    "for file in selected_files:\n",
    "    temp = pd.read_csv(os.path.join('all-365-days-csv', file), delimiter = \";\")\n",
    "    samples.append(temp)\n",
    "\n",
    "sample_df = pd.concat(samples, ignore_index=True)"
   ]
  },
  {
   "cell_type": "code",
   "execution_count": 145,
   "id": "5bcd512d-d6c6-4a75-a0bb-5542fe065a85",
   "metadata": {},
   "outputs": [
    {
     "data": {
      "text/html": [
       "<div>\n",
       "<style scoped>\n",
       "    .dataframe tbody tr th:only-of-type {\n",
       "        vertical-align: middle;\n",
       "    }\n",
       "\n",
       "    .dataframe tbody tr th {\n",
       "        vertical-align: top;\n",
       "    }\n",
       "\n",
       "    .dataframe thead th {\n",
       "        text-align: right;\n",
       "    }\n",
       "</style>\n",
       "<table border=\"1\" class=\"dataframe\">\n",
       "  <thead>\n",
       "    <tr style=\"text-align: right;\">\n",
       "      <th></th>\n",
       "      <th>open</th>\n",
       "      <th>high</th>\n",
       "      <th>low</th>\n",
       "      <th>close</th>\n",
       "      <th>volume</th>\n",
       "      <th>marketCap</th>\n",
       "    </tr>\n",
       "  </thead>\n",
       "  <tbody>\n",
       "    <tr>\n",
       "      <th>count</th>\n",
       "      <td>14145.000000</td>\n",
       "      <td>14145.000000</td>\n",
       "      <td>14145.000000</td>\n",
       "      <td>14145.000000</td>\n",
       "      <td>1.414500e+04</td>\n",
       "      <td>1.414500e+04</td>\n",
       "    </tr>\n",
       "    <tr>\n",
       "      <th>mean</th>\n",
       "      <td>15.802027</td>\n",
       "      <td>16.146025</td>\n",
       "      <td>15.454040</td>\n",
       "      <td>15.792252</td>\n",
       "      <td>8.319853e+07</td>\n",
       "      <td>2.134446e+09</td>\n",
       "    </tr>\n",
       "    <tr>\n",
       "      <th>std</th>\n",
       "      <td>49.701348</td>\n",
       "      <td>50.668904</td>\n",
       "      <td>48.732489</td>\n",
       "      <td>49.678783</td>\n",
       "      <td>1.879825e+08</td>\n",
       "      <td>7.107184e+09</td>\n",
       "    </tr>\n",
       "    <tr>\n",
       "      <th>min</th>\n",
       "      <td>0.000007</td>\n",
       "      <td>0.000007</td>\n",
       "      <td>0.000006</td>\n",
       "      <td>0.000007</td>\n",
       "      <td>2.135794e+05</td>\n",
       "      <td>0.000000e+00</td>\n",
       "    </tr>\n",
       "    <tr>\n",
       "      <th>25%</th>\n",
       "      <td>0.052309</td>\n",
       "      <td>0.053639</td>\n",
       "      <td>0.051137</td>\n",
       "      <td>0.052286</td>\n",
       "      <td>5.450167e+06</td>\n",
       "      <td>1.826808e+08</td>\n",
       "    </tr>\n",
       "    <tr>\n",
       "      <th>50%</th>\n",
       "      <td>0.429136</td>\n",
       "      <td>0.447340</td>\n",
       "      <td>0.411834</td>\n",
       "      <td>0.427934</td>\n",
       "      <td>1.782584e+07</td>\n",
       "      <td>4.126895e+08</td>\n",
       "    </tr>\n",
       "    <tr>\n",
       "      <th>75%</th>\n",
       "      <td>3.741896</td>\n",
       "      <td>3.843459</td>\n",
       "      <td>3.608403</td>\n",
       "      <td>3.720575</td>\n",
       "      <td>6.473250e+07</td>\n",
       "      <td>1.147196e+09</td>\n",
       "    </tr>\n",
       "    <tr>\n",
       "      <th>max</th>\n",
       "      <td>354.419456</td>\n",
       "      <td>388.715525</td>\n",
       "      <td>347.019616</td>\n",
       "      <td>354.406383</td>\n",
       "      <td>5.390604e+09</td>\n",
       "      <td>5.669691e+10</td>\n",
       "    </tr>\n",
       "  </tbody>\n",
       "</table>\n",
       "</div>"
      ],
      "text/plain": [
       "               open          high           low         close        volume  \\\n",
       "count  14145.000000  14145.000000  14145.000000  14145.000000  1.414500e+04   \n",
       "mean      15.802027     16.146025     15.454040     15.792252  8.319853e+07   \n",
       "std       49.701348     50.668904     48.732489     49.678783  1.879825e+08   \n",
       "min        0.000007      0.000007      0.000006      0.000007  2.135794e+05   \n",
       "25%        0.052309      0.053639      0.051137      0.052286  5.450167e+06   \n",
       "50%        0.429136      0.447340      0.411834      0.427934  1.782584e+07   \n",
       "75%        3.741896      3.843459      3.608403      3.720575  6.473250e+07   \n",
       "max      354.419456    388.715525    347.019616    354.406383  5.390604e+09   \n",
       "\n",
       "          marketCap  \n",
       "count  1.414500e+04  \n",
       "mean   2.134446e+09  \n",
       "std    7.107184e+09  \n",
       "min    0.000000e+00  \n",
       "25%    1.826808e+08  \n",
       "50%    4.126895e+08  \n",
       "75%    1.147196e+09  \n",
       "max    5.669691e+10  "
      ]
     },
     "execution_count": 145,
     "metadata": {},
     "output_type": "execute_result"
    }
   ],
   "source": [
    "sample_df.describe()"
   ]
  },
  {
   "cell_type": "code",
   "execution_count": 146,
   "id": "6b6d28e3-e8ab-422d-9657-00b3e82fad0f",
   "metadata": {},
   "outputs": [
    {
     "name": "stdout",
     "output_type": "stream",
     "text": [
      "in our case The 98% confidence interval for the mean volume(24h) is: (79521133.74565172, 86875917.57876256)\n"
     ]
    }
   ],
   "source": [
    "#Estimation question\n",
    "data = sample_df['volume']\n",
    "mean = data.mean()\n",
    "se = stats.sem(data)\n",
    "\n",
    "# calculate the 98% confidence interval\n",
    "confidence_interval = stats.t.interval(alpha=0.98, df=len(data)-1, loc=mean, scale=se)\n",
    "print(\"in our case The 98% confidence interval for the mean volume(24h) is:\", confidence_interval)"
   ]
  },
  {
   "cell_type": "code",
   "execution_count": 147,
   "id": "e2118c73-645b-4400-82fd-e13500430ff3",
   "metadata": {},
   "outputs": [
    {
     "name": "stdout",
     "output_type": "stream",
     "text": [
      "mean_change_sched_1:  0.17441400061616683 \n",
      "mean_change_sched_2:  -0.23871371428545668 \n",
      "t_stat:  0.7107051531110641 \n",
      "p_val:  0.47726979140797066\n",
      "The difference in mean daily price changes between the two schedules is not statistically significant.\n"
     ]
    }
   ],
   "source": [
    "#hypothesis 1:\n",
    "#define new column for weekdays names\n",
    "\n",
    "df['day'] = pd.to_datetime(df.timestamp)\n",
    "df['day']  = df['day'].apply(lambda x: x.day_name())\n",
    "\n",
    "#calculate mean of daily price changes\n",
    "df['daily_change'] = df['close'] - df['open']\n",
    "mean_change_sched_1 = df[df['day'].isin(['Thursday', 'Friday', 'Saturday'])]['daily_change'].mean()\n",
    "mean_change_sched_2 = df[df['day'].isin(['Monday', 'Tuesday', 'Wednesday'])]['daily_change'].mean()\n",
    "\n",
    "\n",
    "# perform independent t-test\n",
    "sched_1 = df[df['day'].isin(['Thursday', 'Friday', 'Saturday'])]['daily_change']\n",
    "sched_2 = df[df['day'].isin(['Monday', 'Tuesday', 'Wednesday'])]['daily_change']\n",
    "t_stat, p_val = stats.ttest_ind(sched_1, sched_2)\n",
    "\n",
    "print(\"mean_change_sched_1: \", mean_change_sched_1, \"\\nmean_change_sched_2: \",  mean_change_sched_2 ,\"\\nt_stat: \", t_stat, \"\\np_val: \", p_val )\n",
    "if p_val < 0.05:\n",
    "    print(\"The difference in mean daily price changes between the two schedules is statistically significant.\")\n",
    "else:\n",
    "    print(\"The difference in mean daily price changes between the two schedules is not statistically significant.\")"
   ]
  },
  {
   "cell_type": "code",
   "execution_count": 148,
   "id": "1492e650-c05a-4cbd-8f14-af7af1c48307",
   "metadata": {},
   "outputs": [
    {
     "data": {
      "text/plain": [
       "{'whiskers': [<matplotlib.lines.Line2D at 0x1ef25471820>,\n",
       "  <matplotlib.lines.Line2D at 0x1ef25471bb0>],\n",
       " 'caps': [<matplotlib.lines.Line2D at 0x1ef25471f40>,\n",
       "  <matplotlib.lines.Line2D at 0x1ef2547d310>],\n",
       " 'boxes': [<matplotlib.lines.Line2D at 0x1ef25471490>],\n",
       " 'medians': [<matplotlib.lines.Line2D at 0x1ef2547d6a0>],\n",
       " 'fliers': [<matplotlib.lines.Line2D at 0x1ef2547da30>],\n",
       " 'means': []}"
      ]
     },
     "execution_count": 148,
     "metadata": {},
     "output_type": "execute_result"
    },
    {
     "data": {
      "image/png": "[encoded data removed]",
      "text/plain": [
       "<Figure size 432x288 with 1 Axes>"
      ]
     },
     "metadata": {
      "needs_background": "light"
     },
     "output_type": "display_data"
    }
   ],
   "source": [
    "#plot and try to understand distribution\n",
    "plt.boxplot(df[df['day'].isin(['Monday', 'Tuesday', 'Wednesday'])]['daily_change'])"
   ]
  },
  {
   "cell_type": "code",
   "execution_count": 149,
   "id": "9d54ec06-22da-403f-bb07-9ef6b72d0b1e",
   "metadata": {},
   "outputs": [
    {
     "data": {
      "text/plain": [
       "{'whiskers': [<matplotlib.lines.Line2D at 0x1ef254dc4f0>,\n",
       "  <matplotlib.lines.Line2D at 0x1ef254dc880>],\n",
       " 'caps': [<matplotlib.lines.Line2D at 0x1ef254dcc10>,\n",
       "  <matplotlib.lines.Line2D at 0x1ef254dcfa0>],\n",
       " 'boxes': [<matplotlib.lines.Line2D at 0x1ef254dc160>],\n",
       " 'medians': [<matplotlib.lines.Line2D at 0x1ef254e4370>],\n",
       " 'fliers': [<matplotlib.lines.Line2D at 0x1ef254e4700>],\n",
       " 'means': []}"
      ]
     },
     "execution_count": 149,
     "metadata": {},
     "output_type": "execute_result"
    },
    {
     "data": {
      "image/png": "[encoded data removed]",
      "text/plain": [
       "<Figure size 432x288 with 1 Axes>"
      ]
     },
     "metadata": {
      "needs_background": "light"
     },
     "output_type": "display_data"
    }
   ],
   "source": [
    "import matplotlib.pyplot as plt\n",
    "plt.boxplot(df[df['day'].isin(['Thursday', 'Friday', 'Saturday'])]['daily_change'])\n"
   ]
  },
  {
   "cell_type": "code",
   "execution_count": 150,
   "id": "0eb0920a-7cad-45b5-8ae5-d5e8f27c9137",
   "metadata": {},
   "outputs": [
    {
     "name": "stdout",
     "output_type": "stream",
     "text": [
      "Z-score: 2.1557071183632917\n",
      "P-value: 0.031106541993243444\n",
      "The difference in mean daily trading volumes between the selected coins and the other coins is statistically significant.\n",
      "Mean daily trading volume for Ethereum, Bitcoin, and USDt Tether: 15689585265.846895\n",
      "Mean daily trading volume for other coins: 298555593.08627266\n"
     ]
    }
   ],
   "source": [
    "# second hypothesis test question:\n",
    "# null hypothesis: The mean volume of three cryptos {'Ethereum', 'Bitcoin', 'USDt Tether'} is significantly more than the mean volume of other cryptos\n",
    "top_coins = ['Ethereum', 'Bitcoin', 'USDt Tether']\n",
    "other_coins = df[~df['Name'].isin(top_coins)]\n",
    "\n",
    "# calculate mean daily volume for top coins and others\n",
    "mean_volume_top = df[df['Name'].isin(top_coins)]['volume'].mean()\n",
    "mean_volume_others = other_coins['volume'].mean()\n",
    "\n",
    "std_volume_top = df[df['Name'].isin(top_coins)]['volume'].std()\n",
    "std_volume_others = other_coins['volume'].std()\n",
    "\n",
    "\n",
    "# calculate z-score\n",
    "z_score = (mean_volume_top - mean_volume_others) / ((std_volume_top**2/len(top_coins) + std_volume_others**2/len(other_coins))**0.5)\n",
    "\n",
    "# calculate p-value\n",
    "#twosided\n",
    "p_value = stats.norm.sf(abs(z_score))*2 \n",
    "\n",
    "print(f\"Z-score: {z_score}\")\n",
    "print(f\"P-value: {p_value}\")\n",
    "\n",
    "if p_value < 0.05:\n",
    "    print(\"The difference in mean daily trading volumes between the selected coins and the other coins is statistically significant.\")\n",
    "else:\n",
    "    print(\"The difference in mean daily trading volumes between the selected coins and the other coins is not statistically significant.\")\n",
    "\n",
    "print(f\"Mean daily trading volume for Ethereum, Bitcoin, and USDt Tether: {mean_volume_selected}\")\n",
    "print(f\"Mean daily trading volume for other coins: {mean_volume_others}\")\n",
    "\n"
   ]
  }
 ],
 "metadata": {
  "kernelspec": {
   "display_name": "Python 3 (ipykernel)",
   "language": "python",
   "name": "python3"
  },
  "language_info": {
   "codemirror_mode": {
    "name": "ipython",
    "version": 3
   },
   "file_extension": ".py",
   "mimetype": "text/x-python",
   "name": "python",
   "nbconvert_exporter": "python",
   "pygments_lexer": "ipython3",
   "version": "3.9.6"
  }
 },
 "nbformat": 4,
 "nbformat_minor": 5
}
