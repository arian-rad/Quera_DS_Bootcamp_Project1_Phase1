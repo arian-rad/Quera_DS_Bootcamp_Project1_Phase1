{
 "cells": [
  {
   "cell_type": "code",
   "execution_count": 50,
   "outputs": [],
   "source": [
    "import pandas as pd\n",
    "import os\n",
    "from queryhandler.database_connector import DatabaseConnector\n"
   ],
   "metadata": {
    "collapsed": false,
    "ExecuteTime": {
     "end_time": "2023-09-11T13:23:36.978966Z",
     "start_time": "2023-09-11T13:23:36.971520Z"
    }
   },
   "id": "e54f1bcdd0af5b2f"
  },
  {
   "cell_type": "code",
   "execution_count": 51,
   "outputs": [],
   "source": [
    "# connect to database in order to fetch top 200 coins data\n",
    "db_connector = DatabaseConnector(\n",
    "    db_name=os.environ.get(\"DATABASE_NAME\"),\n",
    "    db_user=os.environ.get(\"DATABASE_USER\"),\n",
    "    db_password=os.environ.get(\"DATABASE_PASSWORD\"),\n",
    "    db_host=os.environ.get(\"DATABASE_HOST\"),\n",
    "    db_port=os.environ.get(\"DATABASE_PORT\"),\n",
    ")\n",
    "engine, connection = db_connector.connect_to_db()\n"
   ],
   "metadata": {
    "collapsed": false,
    "ExecuteTime": {
     "end_time": "2023-09-11T13:23:41.245717Z",
     "start_time": "2023-09-11T13:23:41.074184Z"
    }
   },
   "id": "892688c7312f5b82"
  },
  {
   "cell_type": "code",
   "execution_count": null,
   "outputs": [],
   "source": [
    "# define the query to fetch data from coin table\n",
    "query = \"SELECT * FROM coin_history where time_open='2023-08-25'\"\n",
    "df = pd.read_sql(query, engine)\n",
    "\n",
    "# df['market_cap'] = [float(item) for item in df[\"market_cap\"]]\n",
    "# df['volume'] = [float(item) for item in df[\"volume\"]]\n",
    "# plot figure\n",
    "ax = df.plot.scatter(x=\"market_cap\", y=\"volume\")\n",
    "ax.set_title(\"Market-cap and Volume Relation\")"
   ],
   "metadata": {
    "collapsed": false
   },
   "id": "fd52028c521dfbc2"
  },
  {
   "cell_type": "code",
   "execution_count": null,
   "outputs": [],
   "source": [
    "# # define the query to fetch data from coin table\n",
    "# coin_history_path = \"/Users/User/Downloads/All_Data/all-365-days-csv\"\n",
    "# df_list = list()\n",
    "# for file in os.listdir(coin_history_path):\n",
    "#     try:\n",
    "#         temp_df = pd.read_csv(os.path.join(coin_history_path, file), delimiter=\";\",parse_dates=['timestamp'])\n",
    "#         df_list.append(temp_df)\n",
    "#     except pd.errors.EmptyDataError:  # handle empty csv files\n",
    "#         print(file)\n",
    "#         \n",
    "# df = pd.concat(df_list)\n",
    "# \n",
    "# df['date'] = pd.to_datetime(df['timestamp']).dt.date\n",
    "# df_aug = df.loc[df[\"date\"] == pd.to_datetime(\"2023-08-25\").date()]\n",
    "# \n",
    "# ax = df_aug.plot.scatter(x=\"marketCap\", y=\"volume\")\n",
    "# ax.set_title(\"Market-cap and Volume Relation\")\n"
   ],
   "metadata": {
    "collapsed": false
   },
   "id": "initial_id"
  },
  {
   "cell_type": "code",
   "execution_count": 54,
   "outputs": [
    {
     "data": {
      "text/plain": "<pandas.core.groupby.generic.DataFrameGroupBy object at 0x7fd97a906e50>"
     },
     "execution_count": 54,
     "metadata": {},
     "output_type": "execute_result"
    }
   ],
   "source": [
    "# question 2\n",
    "\n",
    "query = \"SELECT * FROM coin_history\"\n",
    "df = pd.read_sql(query, engine)\n",
    "df[\"change\"] = df[\"close\"] - df[\"open\"]\n",
    "\n",
    "df['date'] = pd.to_datetime(df['timestamp']).dt.date\n",
    "df_grouped_by_date = df.groupby(\"date\")\n",
    "df_grouped_by_date\n",
    "\n"
   ],
   "metadata": {
    "collapsed": false,
    "ExecuteTime": {
     "end_time": "2023-09-11T13:26:57.405438Z",
     "start_time": "2023-09-11T13:26:50.562884Z"
    }
   },
   "id": "d8cff712041cb36a"
  },
  {
   "cell_type": "code",
   "execution_count": null,
   "outputs": [],
   "source": [],
   "metadata": {
    "collapsed": false
   },
   "id": "cc580a68283fce9f"
  }
 ],
 "metadata": {
  "kernelspec": {
   "display_name": "Python 3",
   "language": "python",
   "name": "python3"
  },
  "language_info": {
   "codemirror_mode": {
    "name": "ipython",
    "version": 2
   },
   "file_extension": ".py",
   "mimetype": "text/x-python",
   "name": "python",
   "nbconvert_exporter": "python",
   "pygments_lexer": "ipython2",
   "version": "2.7.6"
  }
 },
 "nbformat": 4,
 "nbformat_minor": 5
}
