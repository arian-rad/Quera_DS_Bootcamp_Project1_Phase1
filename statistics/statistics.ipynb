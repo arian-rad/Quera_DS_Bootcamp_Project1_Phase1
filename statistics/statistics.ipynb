{
 "cells": [
  {
   "cell_type": "code",
   "execution_count": null,
   "outputs": [],
   "source": [
    "import pandas as pd\n",
    "import os\n",
    "from queryhandler.database_connector import DatabaseConnector"
   ],
   "metadata": {
    "collapsed": false
   },
   "id": "e54f1bcdd0af5b2f"
  },
  {
   "cell_type": "code",
   "execution_count": null,
   "outputs": [],
   "source": [
    "# connect to database in order to fetch top 200 coins data\n",
    "db_connector = DatabaseConnector(\n",
    "    db_name=os.environ.get(\"DATABASE_NAME\"),\n",
    "    db_user=os.environ.get(\"DATABASE_USER\"),\n",
    "    db_password=os.environ.get(\"DATABASE_PASSWORD\"),\n",
    "    db_host=os.environ.get(\"DATABASE_HOST\"),\n",
    "    db_port=os.environ.get(\"DATABASE_PORT\"),\n",
    ")\n",
    "engine, connection = db_connector.connect_to_db()\n"
   ],
   "metadata": {
    "collapsed": false
   },
   "id": "892688c7312f5b82"
  },
  {
   "cell_type": "code",
   "execution_count": 26,
   "outputs": [
    {
     "data": {
      "text/plain": "        id  coin  date  market_cap    open  rank     low    high   close  \\\n0       13    28  None  2510937181     7.0  None     7.0     7.0     7.0   \n1      377   172  None   116876111     0.0  None     0.0     0.0     0.0   \n2      741     7  None  9152956074     0.0  None     0.0     0.0     0.0   \n3     1105    78  None   408533686    25.0  None    24.0    25.0    25.0   \n4     1469   164  None   134943892     1.0  None     1.0     1.0     1.0   \n..     ...   ...   ...         ...     ...   ...     ...     ...     ...   \n192  67760    54  None   635749025     1.0  None     1.0     1.0     1.0   \n193  68124    36  None  1293223854     6.0  None     6.0     6.0     6.0   \n194  68447    57  None   582258459     0.0  None     0.0     0.0     0.0   \n195  68811   162  None   136032462     0.0  None     0.0     0.0     0.0   \n196  69175    68  None   472618562  1918.0  None  1908.0  1922.0  1917.0   \n\n           volume  time_open          time_close           time_high  \\\n0    8.742949e+07 2023-08-25 2023-08-25 23:59:59 2023-08-25 12:13:00   \n1    1.078057e+06 2023-08-25 2023-08-25 23:59:59 2023-08-25 03:03:00   \n2    2.267454e+08 2023-08-25 2023-08-25 23:59:59 2023-08-25 02:05:00   \n3    4.328138e+07 2023-08-25 2023-08-25 23:59:59 2023-08-25 19:19:00   \n4    1.534114e+07 2023-08-25 2023-08-25 23:59:59 2023-08-25 23:57:00   \n..            ...        ...                 ...                 ...   \n192  9.643727e+06 2023-08-25 2023-08-25 23:59:59 2023-08-25 22:10:00   \n193  8.839688e+07 2023-08-25 2023-08-25 23:59:59 2023-08-25 00:17:00   \n194  2.998064e+07 2023-08-25 2023-08-25 23:59:59 2023-08-25 00:00:00   \n195  6.617848e+06 2023-08-25 2023-08-25 23:59:59 2023-08-25 19:16:00   \n196  1.043454e+06 2023-08-25 2023-08-25 23:59:59 2023-08-25 14:17:00   \n\n               time_low  \n0   2023-08-25 04:53:00  \n1   2023-08-25 07:59:00  \n2   2023-08-25 20:08:00  \n3   2023-08-25 05:05:00  \n4   2023-08-25 04:53:00  \n..                  ...  \n192 2023-08-25 04:43:00  \n193 2023-08-25 15:04:00  \n194 2023-08-25 15:04:00  \n195 2023-08-25 05:05:00  \n196 2023-08-25 15:03:00  \n\n[197 rows x 14 columns]",
      "text/html": "<div>\n<style scoped>\n    .dataframe tbody tr th:only-of-type {\n        vertical-align: middle;\n    }\n\n    .dataframe tbody tr th {\n        vertical-align: top;\n    }\n\n    .dataframe thead th {\n        text-align: right;\n    }\n</style>\n<table border=\"1\" class=\"dataframe\">\n  <thead>\n    <tr style=\"text-align: right;\">\n      <th></th>\n      <th>id</th>\n      <th>coin</th>\n      <th>date</th>\n      <th>market_cap</th>\n      <th>open</th>\n      <th>rank</th>\n      <th>low</th>\n      <th>high</th>\n      <th>close</th>\n      <th>volume</th>\n      <th>time_open</th>\n      <th>time_close</th>\n      <th>time_high</th>\n      <th>time_low</th>\n    </tr>\n  </thead>\n  <tbody>\n    <tr>\n      <th>0</th>\n      <td>13</td>\n      <td>28</td>\n      <td>None</td>\n      <td>2510937181</td>\n      <td>7.0</td>\n      <td>None</td>\n      <td>7.0</td>\n      <td>7.0</td>\n      <td>7.0</td>\n      <td>8.742949e+07</td>\n      <td>2023-08-25</td>\n      <td>2023-08-25 23:59:59</td>\n      <td>2023-08-25 12:13:00</td>\n      <td>2023-08-25 04:53:00</td>\n    </tr>\n    <tr>\n      <th>1</th>\n      <td>377</td>\n      <td>172</td>\n      <td>None</td>\n      <td>116876111</td>\n      <td>0.0</td>\n      <td>None</td>\n      <td>0.0</td>\n      <td>0.0</td>\n      <td>0.0</td>\n      <td>1.078057e+06</td>\n      <td>2023-08-25</td>\n      <td>2023-08-25 23:59:59</td>\n      <td>2023-08-25 03:03:00</td>\n      <td>2023-08-25 07:59:00</td>\n    </tr>\n    <tr>\n      <th>2</th>\n      <td>741</td>\n      <td>7</td>\n      <td>None</td>\n      <td>9152956074</td>\n      <td>0.0</td>\n      <td>None</td>\n      <td>0.0</td>\n      <td>0.0</td>\n      <td>0.0</td>\n      <td>2.267454e+08</td>\n      <td>2023-08-25</td>\n      <td>2023-08-25 23:59:59</td>\n      <td>2023-08-25 02:05:00</td>\n      <td>2023-08-25 20:08:00</td>\n    </tr>\n    <tr>\n      <th>3</th>\n      <td>1105</td>\n      <td>78</td>\n      <td>None</td>\n      <td>408533686</td>\n      <td>25.0</td>\n      <td>None</td>\n      <td>24.0</td>\n      <td>25.0</td>\n      <td>25.0</td>\n      <td>4.328138e+07</td>\n      <td>2023-08-25</td>\n      <td>2023-08-25 23:59:59</td>\n      <td>2023-08-25 19:19:00</td>\n      <td>2023-08-25 05:05:00</td>\n    </tr>\n    <tr>\n      <th>4</th>\n      <td>1469</td>\n      <td>164</td>\n      <td>None</td>\n      <td>134943892</td>\n      <td>1.0</td>\n      <td>None</td>\n      <td>1.0</td>\n      <td>1.0</td>\n      <td>1.0</td>\n      <td>1.534114e+07</td>\n      <td>2023-08-25</td>\n      <td>2023-08-25 23:59:59</td>\n      <td>2023-08-25 23:57:00</td>\n      <td>2023-08-25 04:53:00</td>\n    </tr>\n    <tr>\n      <th>...</th>\n      <td>...</td>\n      <td>...</td>\n      <td>...</td>\n      <td>...</td>\n      <td>...</td>\n      <td>...</td>\n      <td>...</td>\n      <td>...</td>\n      <td>...</td>\n      <td>...</td>\n      <td>...</td>\n      <td>...</td>\n      <td>...</td>\n      <td>...</td>\n    </tr>\n    <tr>\n      <th>192</th>\n      <td>67760</td>\n      <td>54</td>\n      <td>None</td>\n      <td>635749025</td>\n      <td>1.0</td>\n      <td>None</td>\n      <td>1.0</td>\n      <td>1.0</td>\n      <td>1.0</td>\n      <td>9.643727e+06</td>\n      <td>2023-08-25</td>\n      <td>2023-08-25 23:59:59</td>\n      <td>2023-08-25 22:10:00</td>\n      <td>2023-08-25 04:43:00</td>\n    </tr>\n    <tr>\n      <th>193</th>\n      <td>68124</td>\n      <td>36</td>\n      <td>None</td>\n      <td>1293223854</td>\n      <td>6.0</td>\n      <td>None</td>\n      <td>6.0</td>\n      <td>6.0</td>\n      <td>6.0</td>\n      <td>8.839688e+07</td>\n      <td>2023-08-25</td>\n      <td>2023-08-25 23:59:59</td>\n      <td>2023-08-25 00:17:00</td>\n      <td>2023-08-25 15:04:00</td>\n    </tr>\n    <tr>\n      <th>194</th>\n      <td>68447</td>\n      <td>57</td>\n      <td>None</td>\n      <td>582258459</td>\n      <td>0.0</td>\n      <td>None</td>\n      <td>0.0</td>\n      <td>0.0</td>\n      <td>0.0</td>\n      <td>2.998064e+07</td>\n      <td>2023-08-25</td>\n      <td>2023-08-25 23:59:59</td>\n      <td>2023-08-25 00:00:00</td>\n      <td>2023-08-25 15:04:00</td>\n    </tr>\n    <tr>\n      <th>195</th>\n      <td>68811</td>\n      <td>162</td>\n      <td>None</td>\n      <td>136032462</td>\n      <td>0.0</td>\n      <td>None</td>\n      <td>0.0</td>\n      <td>0.0</td>\n      <td>0.0</td>\n      <td>6.617848e+06</td>\n      <td>2023-08-25</td>\n      <td>2023-08-25 23:59:59</td>\n      <td>2023-08-25 19:16:00</td>\n      <td>2023-08-25 05:05:00</td>\n    </tr>\n    <tr>\n      <th>196</th>\n      <td>69175</td>\n      <td>68</td>\n      <td>None</td>\n      <td>472618562</td>\n      <td>1918.0</td>\n      <td>None</td>\n      <td>1908.0</td>\n      <td>1922.0</td>\n      <td>1917.0</td>\n      <td>1.043454e+06</td>\n      <td>2023-08-25</td>\n      <td>2023-08-25 23:59:59</td>\n      <td>2023-08-25 14:17:00</td>\n      <td>2023-08-25 15:03:00</td>\n    </tr>\n  </tbody>\n</table>\n<p>197 rows × 14 columns</p>\n</div>"
     },
     "execution_count": 26,
     "metadata": {},
     "output_type": "execute_result"
    }
   ],
   "source": [
    "# define the query to fetch data from coin table\n",
    "query = \"SELECT * FROM coin_history where time_open='2023-08-25'\"\n",
    "df = pd.read_sql(query, engine)\n",
    "\n",
    "# plot figure\n",
    "ax = df.plot.scatter(x=\"market_cap\", y=\"volume\")\n",
    "ax.set_title(\"Market-cap and Volume Relation\")"
   ],
   "metadata": {
    "collapsed": false,
    "ExecuteTime": {
     "end_time": "2023-09-10T12:40:02.111197Z",
     "start_time": "2023-09-10T12:40:01.796789Z"
    }
   },
   "id": "initial_id"
  },
  {
   "cell_type": "code",
   "execution_count": null,
   "outputs": [],
   "source": [],
   "metadata": {
    "collapsed": false
   },
   "id": "51b5456daf4ca28f"
  }
 ],
 "metadata": {
  "kernelspec": {
   "display_name": "Python 3",
   "language": "python",
   "name": "python3"
  },
  "language_info": {
   "codemirror_mode": {
    "name": "ipython",
    "version": 2
   },
   "file_extension": ".py",
   "mimetype": "text/x-python",
   "name": "python",
   "nbconvert_exporter": "python",
   "pygments_lexer": "ipython2",
   "version": "2.7.6"
  }
 },
 "nbformat": 4,
 "nbformat_minor": 5
}
