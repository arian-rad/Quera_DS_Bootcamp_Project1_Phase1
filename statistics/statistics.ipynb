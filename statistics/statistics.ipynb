{
 "cells": [
  {
   "cell_type": "code",
   "execution_count": 55,
   "outputs": [],
   "source": [
    "import pandas as pd\n",
    "import os\n",
    "from queryhandler.database_connector import DatabaseConnector\n"
   ],
   "metadata": {
    "collapsed": false,
    "ExecuteTime": {
     "end_time": "2023-09-11T16:37:27.338605Z",
     "start_time": "2023-09-11T16:37:27.322187Z"
    }
   },
   "id": "e54f1bcdd0af5b2f"
  },
  {
   "cell_type": "code",
   "execution_count": 56,
   "outputs": [],
   "source": [
    "# connect to database in order to fetch top 200 coins data\n",
    "db_connector = DatabaseConnector(\n",
    "    db_name=os.environ.get(\"DATABASE_NAME\"),\n",
    "    db_user=os.environ.get(\"DATABASE_USER\"),\n",
    "    db_password=os.environ.get(\"DATABASE_PASSWORD\"),\n",
    "    db_host=os.environ.get(\"DATABASE_HOST\"),\n",
    "    db_port=os.environ.get(\"DATABASE_PORT\"),\n",
    ")\n",
    "engine, connection = db_connector.connect_to_db()\n"
   ],
   "metadata": {
    "collapsed": false,
    "ExecuteTime": {
     "end_time": "2023-09-11T16:37:33.472702Z",
     "start_time": "2023-09-11T16:37:33.348012Z"
    }
   },
   "id": "892688c7312f5b82"
  },
  {
   "cell_type": "code",
   "execution_count": null,
   "outputs": [],
   "source": [
    "# define the query to fetch data from coin table\n",
    "query = \"SELECT * FROM coin_history where time_open='2023-08-25'\"\n",
    "df = pd.read_sql(query, engine)\n",
    "\n",
    "# df['market_cap'] = [float(item) for item in df[\"market_cap\"]]\n",
    "# df['volume'] = [float(item) for item in df[\"volume\"]]\n",
    "# plot figure\n",
    "ax = df.plot.scatter(x=\"market_cap\", y=\"volume\")\n",
    "ax.set_title(\"Market-cap and Volume Relation\")"
   ],
   "metadata": {
    "collapsed": false
   },
   "id": "fd52028c521dfbc2"
  },
  {
   "cell_type": "code",
   "execution_count": null,
   "outputs": [],
   "source": [
    "# # define the query to fetch data from coin table\n",
    "# coin_history_path = \"/Users/User/Downloads/All_Data/all-365-days-csv\"\n",
    "# df_list = list()\n",
    "# for file in os.listdir(coin_history_path):\n",
    "#     try:\n",
    "#         temp_df = pd.read_csv(os.path.join(coin_history_path, file), delimiter=\";\",parse_dates=['timestamp'])\n",
    "#         df_list.append(temp_df)\n",
    "#     except pd.errors.EmptyDataError:  # handle empty csv files\n",
    "#         print(file)\n",
    "#         \n",
    "# df = pd.concat(df_list)\n",
    "# \n",
    "# df['date'] = pd.to_datetime(df['timestamp']).dt.date\n",
    "# df_aug = df.loc[df[\"date\"] == pd.to_datetime(\"2023-08-25\").date()]\n",
    "# \n",
    "# ax = df_aug.plot.scatter(x=\"marketCap\", y=\"volume\")\n",
    "# ax.set_title(\"Market-cap and Volume Relation\")\n"
   ],
   "metadata": {
    "collapsed": false
   },
   "id": "initial_id"
  },
  {
   "cell_type": "code",
   "execution_count": 60,
   "outputs": [
    {
     "data": {
      "text/plain": "                    coin1               coin2  days\n0                  Chiliz                Pepe   364\n1          Ocean Protocol              Stacks   364\n2             PancakeSwap  Trust Wallet Token   364\n3                 Bitcoin     Wrapped Bitcoin   351\n4            Decentraland         The Sandbox   321\n5                Ethereum              Gnosis   317\n6              Enjin Coin         The Sandbox   316\n7                Ethereum     Wrapped Bitcoin   313\n8           Axie Infinity         The Sandbox   310\n9           Axie Infinity        Decentraland   309\n10           Decentraland       Oasis Network   309\n11                Bitcoin            Ethereum   308\n12           Decentraland          Enjin Coin   307\n13                   ICON         The Sandbox   307\n14                   Ankr             Zilliqa   306\n15          Axie Infinity       Oasis Network   306\n16  Basic Attention Token            Ontology   306\n17          Oasis Network         The Sandbox   306\n18            0x Protocol                ICON   305\n19          1inch Network       Oasis Network   305\n20                Cardano    Ethereum Classic   305\n21                   Ankr                ICON   304\n22           Decentraland             VeChain   304\n23                   ICON                IOST   304\n24                   Mina       Oasis Network   304\n25                  Tezos         The Sandbox   304\n26            0x Protocol             VeChain   303\n27              Avalanche    Ethereum Classic   303\n28  Basic Attention Token       Oasis Network   303\n29  Basic Attention Token               Tezos   303",
      "text/html": "<div>\n<style scoped>\n    .dataframe tbody tr th:only-of-type {\n        vertical-align: middle;\n    }\n\n    .dataframe tbody tr th {\n        vertical-align: top;\n    }\n\n    .dataframe thead th {\n        text-align: right;\n    }\n</style>\n<table border=\"1\" class=\"dataframe\">\n  <thead>\n    <tr style=\"text-align: right;\">\n      <th></th>\n      <th>coin1</th>\n      <th>coin2</th>\n      <th>days</th>\n    </tr>\n  </thead>\n  <tbody>\n    <tr>\n      <th>0</th>\n      <td>Chiliz</td>\n      <td>Pepe</td>\n      <td>364</td>\n    </tr>\n    <tr>\n      <th>1</th>\n      <td>Ocean Protocol</td>\n      <td>Stacks</td>\n      <td>364</td>\n    </tr>\n    <tr>\n      <th>2</th>\n      <td>PancakeSwap</td>\n      <td>Trust Wallet Token</td>\n      <td>364</td>\n    </tr>\n    <tr>\n      <th>3</th>\n      <td>Bitcoin</td>\n      <td>Wrapped Bitcoin</td>\n      <td>351</td>\n    </tr>\n    <tr>\n      <th>4</th>\n      <td>Decentraland</td>\n      <td>The Sandbox</td>\n      <td>321</td>\n    </tr>\n    <tr>\n      <th>5</th>\n      <td>Ethereum</td>\n      <td>Gnosis</td>\n      <td>317</td>\n    </tr>\n    <tr>\n      <th>6</th>\n      <td>Enjin Coin</td>\n      <td>The Sandbox</td>\n      <td>316</td>\n    </tr>\n    <tr>\n      <th>7</th>\n      <td>Ethereum</td>\n      <td>Wrapped Bitcoin</td>\n      <td>313</td>\n    </tr>\n    <tr>\n      <th>8</th>\n      <td>Axie Infinity</td>\n      <td>The Sandbox</td>\n      <td>310</td>\n    </tr>\n    <tr>\n      <th>9</th>\n      <td>Axie Infinity</td>\n      <td>Decentraland</td>\n      <td>309</td>\n    </tr>\n    <tr>\n      <th>10</th>\n      <td>Decentraland</td>\n      <td>Oasis Network</td>\n      <td>309</td>\n    </tr>\n    <tr>\n      <th>11</th>\n      <td>Bitcoin</td>\n      <td>Ethereum</td>\n      <td>308</td>\n    </tr>\n    <tr>\n      <th>12</th>\n      <td>Decentraland</td>\n      <td>Enjin Coin</td>\n      <td>307</td>\n    </tr>\n    <tr>\n      <th>13</th>\n      <td>ICON</td>\n      <td>The Sandbox</td>\n      <td>307</td>\n    </tr>\n    <tr>\n      <th>14</th>\n      <td>Ankr</td>\n      <td>Zilliqa</td>\n      <td>306</td>\n    </tr>\n    <tr>\n      <th>15</th>\n      <td>Axie Infinity</td>\n      <td>Oasis Network</td>\n      <td>306</td>\n    </tr>\n    <tr>\n      <th>16</th>\n      <td>Basic Attention Token</td>\n      <td>Ontology</td>\n      <td>306</td>\n    </tr>\n    <tr>\n      <th>17</th>\n      <td>Oasis Network</td>\n      <td>The Sandbox</td>\n      <td>306</td>\n    </tr>\n    <tr>\n      <th>18</th>\n      <td>0x Protocol</td>\n      <td>ICON</td>\n      <td>305</td>\n    </tr>\n    <tr>\n      <th>19</th>\n      <td>1inch Network</td>\n      <td>Oasis Network</td>\n      <td>305</td>\n    </tr>\n    <tr>\n      <th>20</th>\n      <td>Cardano</td>\n      <td>Ethereum Classic</td>\n      <td>305</td>\n    </tr>\n    <tr>\n      <th>21</th>\n      <td>Ankr</td>\n      <td>ICON</td>\n      <td>304</td>\n    </tr>\n    <tr>\n      <th>22</th>\n      <td>Decentraland</td>\n      <td>VeChain</td>\n      <td>304</td>\n    </tr>\n    <tr>\n      <th>23</th>\n      <td>ICON</td>\n      <td>IOST</td>\n      <td>304</td>\n    </tr>\n    <tr>\n      <th>24</th>\n      <td>Mina</td>\n      <td>Oasis Network</td>\n      <td>304</td>\n    </tr>\n    <tr>\n      <th>25</th>\n      <td>Tezos</td>\n      <td>The Sandbox</td>\n      <td>304</td>\n    </tr>\n    <tr>\n      <th>26</th>\n      <td>0x Protocol</td>\n      <td>VeChain</td>\n      <td>303</td>\n    </tr>\n    <tr>\n      <th>27</th>\n      <td>Avalanche</td>\n      <td>Ethereum Classic</td>\n      <td>303</td>\n    </tr>\n    <tr>\n      <th>28</th>\n      <td>Basic Attention Token</td>\n      <td>Oasis Network</td>\n      <td>303</td>\n    </tr>\n    <tr>\n      <th>29</th>\n      <td>Basic Attention Token</td>\n      <td>Tezos</td>\n      <td>303</td>\n    </tr>\n  </tbody>\n</table>\n</div>"
     },
     "execution_count": 60,
     "metadata": {},
     "output_type": "execute_result"
    }
   ],
   "source": [
    "# question 2\n",
    "\n",
    "query = \"\"\"SELECT c1.name AS coin1, c2.name AS coin2, COUNT(*) AS days\n",
    "FROM coin AS c1\n",
    "JOIN coin_history AS ch1 ON c1.id = ch1.coin\n",
    "JOIN coin AS c2 ON c1.name < c2.name\n",
    "JOIN coin_history AS ch2 ON c2.id = ch2.coin AND DATE(ch1.time_open) = DATE(ch2.time_open )\n",
    "WHERE (ch1.close > ch1.open AND ch2.close > ch2.open) OR (ch1.close < ch1.open AND ch2.close < ch2.open)\n",
    "GROUP BY c1.name, c2.name\n",
    "ORDER BY days DESC, coin1 ASC, coin2 ASC\n",
    "LIMIT 30;\"\"\"\n",
    "\n",
    "\n",
    "# query = \"\"\"SELECT \n",
    "#     c1.name AS coin_a,\n",
    "#     c2.name AS coin_b,\n",
    "#     count(*) as coin_rank   \n",
    "# FROM\n",
    "#     coin_history AS h1\n",
    "# INNER JOIN\n",
    "#     coin_history AS h2\n",
    "# ON\n",
    "#     h1.coin <> h2.coin\n",
    "#     AND date(h1.timestamp) = date(h2.timestamp)\n",
    "# INNER JOIN\n",
    "#     coin c1 ON h1.coin = c1.id\n",
    "#         INNER JOIN\n",
    "#     coin c2 ON h2.coin = c2.id\n",
    "# \n",
    "# WHERE\n",
    "#     (h1.open - h1.close > 0 AND h2.open - h2.close > 0)\n",
    "#     OR (h1.open - h1.close < 0 AND h2.open - h2.close < 0)\n",
    "#     \n",
    "# group by coin_a, coin_b\n",
    "# order by coin_rank desc\n",
    "# limit 30\"\"\"\n",
    "\n",
    "df = pd.read_sql(query, engine)\n",
    "df\n"
   ],
   "metadata": {
    "collapsed": false,
    "ExecuteTime": {
     "end_time": "2023-09-11T16:42:10.600415Z",
     "start_time": "2023-09-11T16:41:47.408687Z"
    }
   },
   "id": "d8cff712041cb36a"
  },
  {
   "cell_type": "code",
   "execution_count": null,
   "outputs": [],
   "source": [],
   "metadata": {
    "collapsed": false
   },
   "id": "cc580a68283fce9f"
  }
 ],
 "metadata": {
  "kernelspec": {
   "display_name": "Python 3",
   "language": "python",
   "name": "python3"
  },
  "language_info": {
   "codemirror_mode": {
    "name": "ipython",
    "version": 2
   },
   "file_extension": ".py",
   "mimetype": "text/x-python",
   "name": "python",
   "nbconvert_exporter": "python",
   "pygments_lexer": "ipython2",
   "version": "2.7.6"
  }
 },
 "nbformat": 4,
 "nbformat_minor": 5
}
